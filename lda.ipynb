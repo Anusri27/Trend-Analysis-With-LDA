{
  "nbformat": 4,
  "nbformat_minor": 0,
  "metadata": {
    "colab": {
      "name": "lda.ipynb",
      "provenance": [],
      "collapsed_sections": []
    },
    "kernelspec": {
      "name": "python3",
      "display_name": "Python 3"
    },
    "language_info": {
      "name": "python"
    }
  },
  "cells": [
    {
      "cell_type": "code",
      "metadata": {
        "id": "OftoiWq4Pr37"
      },
      "source": [
        "import numpy as np\n",
        "import pandas as pd\n",
        "import gensim #the library for Topic modelling\n",
        "from gensim.models.ldamulticore import LdaMulticore\n",
        "from gensim import corpora, models\n",
        "import warnings\n",
        "warnings.simplefilter('ignore')"
      ],
      "execution_count": null,
      "outputs": []
    },
    {
      "cell_type": "code",
      "metadata": {
        "colab": {
          "base_uri": "https://localhost:8080/"
        },
        "id": "mIlAmBU_PysI",
        "outputId": "b232819e-31d9-4511-9bab-e388681b1411"
      },
      "source": [
        "from google.colab import drive\n",
        "drive.mount(\"/content/drive\", force_remount=True)"
      ],
      "execution_count": null,
      "outputs": [
        {
          "output_type": "stream",
          "text": [
            "Mounted at /content/drive\n"
          ],
          "name": "stdout"
        }
      ]
    },
    {
      "cell_type": "code",
      "metadata": {
        "id": "CIIUsnafQC_x"
      },
      "source": [
        "path = r\"/content/drive/My Drive/LDA\""
      ],
      "execution_count": null,
      "outputs": []
    },
    {
      "cell_type": "code",
      "metadata": {
        "id": "FdXMnejMQOqK"
      },
      "source": [
        "import os"
      ],
      "execution_count": null,
      "outputs": []
    },
    {
      "cell_type": "code",
      "metadata": {
        "id": "EvLFH8BtQULd"
      },
      "source": [
        "dpath=os.listdir(path)"
      ],
      "execution_count": null,
      "outputs": []
    },
    {
      "cell_type": "code",
      "metadata": {
        "id": "ImGPMq8YQX_h"
      },
      "source": [
        "dirname=dpath[0]"
      ],
      "execution_count": null,
      "outputs": []
    },
    {
      "cell_type": "code",
      "metadata": {
        "id": "7o-azbBwQaJ7"
      },
      "source": [
        "dirname =[]\n",
        "for i in range(0,len(dpath)):\n",
        "  dirname.append(path + '/' + dpath[i])"
      ],
      "execution_count": null,
      "outputs": []
    },
    {
      "cell_type": "code",
      "metadata": {
        "colab": {
          "base_uri": "https://localhost:8080/"
        },
        "id": "y1A9tmEKCbQW",
        "outputId": "965cc03c-83c9-4d8a-cc3b-8a6057b443d1"
      },
      "source": [
        "dirname"
      ],
      "execution_count": null,
      "outputs": [
        {
          "output_type": "execute_result",
          "data": {
            "text/plain": [
              "['/content/drive/My Drive/LDA/0.csv',\n",
              " '/content/drive/My Drive/LDA/TechCrunch1.csv',\n",
              " '/content/drive/My Drive/LDA/plotdata.csv',\n",
              " '/content/drive/My Drive/LDA/1.csv',\n",
              " '/content/drive/My Drive/LDA/2.csv',\n",
              " '/content/drive/My Drive/LDA/3.csv',\n",
              " '/content/drive/My Drive/LDA/4.csv']"
            ]
          },
          "metadata": {
            "tags": []
          },
          "execution_count": 11
        }
      ]
    },
    {
      "cell_type": "code",
      "metadata": {
        "id": "vuuBdGyPQbK0"
      },
      "source": [
        "data=dirname[1]"
      ],
      "execution_count": null,
      "outputs": []
    },
    {
      "cell_type": "code",
      "metadata": {
        "id": "4MBcwsuwQoXS",
        "colab": {
          "base_uri": "https://localhost:8080/",
          "height": 402
        },
        "outputId": "757d3ab3-3608-40e2-bf5b-66e63b0a9df7"
      },
      "source": [
        "df = pd.read_csv(data,encoding='latin1')\n",
        "df"
      ],
      "execution_count": null,
      "outputs": [
        {
          "output_type": "execute_result",
          "data": {
            "text/html": [
              "<div>\n",
              "<style scoped>\n",
              "    .dataframe tbody tr th:only-of-type {\n",
              "        vertical-align: middle;\n",
              "    }\n",
              "\n",
              "    .dataframe tbody tr th {\n",
              "        vertical-align: top;\n",
              "    }\n",
              "\n",
              "    .dataframe thead th {\n",
              "        text-align: right;\n",
              "    }\n",
              "</style>\n",
              "<table border=\"1\" class=\"dataframe\">\n",
              "  <thead>\n",
              "    <tr style=\"text-align: right;\">\n",
              "      <th></th>\n",
              "      <th>title</th>\n",
              "      <th>url</th>\n",
              "      <th>date</th>\n",
              "    </tr>\n",
              "  </thead>\n",
              "  <tbody>\n",
              "    <tr>\n",
              "      <th>0</th>\n",
              "      <td>Gaming firm Razer seeks to raise over $600M in...</td>\n",
              "      <td>https://techcrunch.com/2017/07/01/razer-hong-k...</td>\n",
              "      <td>2017-07-01</td>\n",
              "    </tr>\n",
              "    <tr>\n",
              "      <th>1</th>\n",
              "      <td>Mendel.ai nabs $2 million to match cancer pati...</td>\n",
              "      <td>https://techcrunch.com/2017/07/01/mendel-ai-na...</td>\n",
              "      <td>2017-07-01</td>\n",
              "    </tr>\n",
              "    <tr>\n",
              "      <th>2</th>\n",
              "      <td>These cities in Californias East Bay are raki...</td>\n",
              "      <td>https://techcrunch.com/2017/07/01/these-east-b...</td>\n",
              "      <td>2017-07-01</td>\n",
              "    </tr>\n",
              "    <tr>\n",
              "      <th>3</th>\n",
              "      <td>A walk around Station F with Emmanuel Macron</td>\n",
              "      <td>https://techcrunch.com/2017/07/01/a-walk-aroun...</td>\n",
              "      <td>2017-07-01</td>\n",
              "    </tr>\n",
              "    <tr>\n",
              "      <th>4</th>\n",
              "      <td>Crunch Report | Facebook Helps You Find Wi-Fi</td>\n",
              "      <td>https://techcrunch.com/2017/06/30/crunch-repor...</td>\n",
              "      <td>2017-06-30</td>\n",
              "    </tr>\n",
              "    <tr>\n",
              "      <th>...</th>\n",
              "      <td>...</td>\n",
              "      <td>...</td>\n",
              "      <td>...</td>\n",
              "    </tr>\n",
              "    <tr>\n",
              "      <th>12389</th>\n",
              "      <td>The League brings its picky dating app to Android</td>\n",
              "      <td>https://techcrunch.com/2017/01/26/the-league-b...</td>\n",
              "      <td>2017-01-26</td>\n",
              "    </tr>\n",
              "    <tr>\n",
              "      <th>12390</th>\n",
              "      <td>More than 3M businesses now pay for Googles G...</td>\n",
              "      <td>https://techcrunch.com/2017/01/26/more-than-3m...</td>\n",
              "      <td>2017-01-26</td>\n",
              "    </tr>\n",
              "    <tr>\n",
              "      <th>12391</th>\n",
              "      <td>With New Zealand citizenship, Peter Thiel can ...</td>\n",
              "      <td>https://techcrunch.com/2017/01/26/peter-thiel-...</td>\n",
              "      <td>2017-01-26</td>\n",
              "    </tr>\n",
              "    <tr>\n",
              "      <th>12392</th>\n",
              "      <td>H2Os Deep Water puts deep learning in the han...</td>\n",
              "      <td>https://techcrunch.com/2017/01/26/h2os-deep-wa...</td>\n",
              "      <td>2017-01-26</td>\n",
              "    </tr>\n",
              "    <tr>\n",
              "      <th>12393</th>\n",
              "      <td>Things get a little too real in the latest Nin...</td>\n",
              "      <td>https://techcrunch.com/2017/01/26/things-get-a...</td>\n",
              "      <td>2017-01-26</td>\n",
              "    </tr>\n",
              "  </tbody>\n",
              "</table>\n",
              "<p>12394 rows × 3 columns</p>\n",
              "</div>"
            ],
            "text/plain": [
              "                                                   title  ...        date\n",
              "0      Gaming firm Razer seeks to raise over $600M in...  ...  2017-07-01\n",
              "1      Mendel.ai nabs $2 million to match cancer pati...  ...  2017-07-01\n",
              "2      These cities in Californias East Bay are raki...  ...  2017-07-01\n",
              "3           A walk around Station F with Emmanuel Macron  ...  2017-07-01\n",
              "4          Crunch Report | Facebook Helps You Find Wi-Fi  ...  2017-06-30\n",
              "...                                                  ...  ...         ...\n",
              "12389  The League brings its picky dating app to Android  ...  2017-01-26\n",
              "12390  More than 3M businesses now pay for Googles G...  ...  2017-01-26\n",
              "12391  With New Zealand citizenship, Peter Thiel can ...  ...  2017-01-26\n",
              "12392  H2Os Deep Water puts deep learning in the han...  ...  2017-01-26\n",
              "12393  Things get a little too real in the latest Nin...  ...  2017-01-26\n",
              "\n",
              "[12394 rows x 3 columns]"
            ]
          },
          "metadata": {
            "tags": []
          },
          "execution_count": 13
        }
      ]
    },
    {
      "cell_type": "code",
      "metadata": {
        "id": "htktQBzNQ9Fp",
        "colab": {
          "base_uri": "https://localhost:8080/"
        },
        "outputId": "71975b57-e689-4baa-b1c0-6034c4a7becb"
      },
      "source": [
        "df.info()"
      ],
      "execution_count": null,
      "outputs": [
        {
          "output_type": "stream",
          "text": [
            "<class 'pandas.core.frame.DataFrame'>\n",
            "RangeIndex: 12394 entries, 0 to 12393\n",
            "Data columns (total 3 columns):\n",
            " #   Column  Non-Null Count  Dtype \n",
            "---  ------  --------------  ----- \n",
            " 0   title   12394 non-null  object\n",
            " 1   url     12394 non-null  object\n",
            " 2   date    12394 non-null  object\n",
            "dtypes: object(3)\n",
            "memory usage: 290.6+ KB\n"
          ],
          "name": "stdout"
        }
      ]
    },
    {
      "cell_type": "code",
      "metadata": {
        "id": "fDeeZ-Q0R9_z"
      },
      "source": [
        "df['date']=pd.to_datetime(df['date'],errors='coerce')"
      ],
      "execution_count": null,
      "outputs": []
    },
    {
      "cell_type": "code",
      "metadata": {
        "id": "JrDgipKrSPum",
        "colab": {
          "base_uri": "https://localhost:8080/"
        },
        "outputId": "5599720b-772f-4555-e4cd-c5d0020cd9ee"
      },
      "source": [
        "df.info()"
      ],
      "execution_count": null,
      "outputs": [
        {
          "output_type": "stream",
          "text": [
            "<class 'pandas.core.frame.DataFrame'>\n",
            "RangeIndex: 12394 entries, 0 to 12393\n",
            "Data columns (total 3 columns):\n",
            " #   Column  Non-Null Count  Dtype         \n",
            "---  ------  --------------  -----         \n",
            " 0   title   12394 non-null  object        \n",
            " 1   url     12394 non-null  object        \n",
            " 2   date    12377 non-null  datetime64[ns]\n",
            "dtypes: datetime64[ns](1), object(2)\n",
            "memory usage: 290.6+ KB\n"
          ],
          "name": "stdout"
        }
      ]
    },
    {
      "cell_type": "code",
      "metadata": {
        "id": "VfpWQFHSSpKR",
        "colab": {
          "base_uri": "https://localhost:8080/",
          "height": 195
        },
        "outputId": "277530f1-854d-4bf1-97a6-d9f2c3de0914"
      },
      "source": [
        "df.head()"
      ],
      "execution_count": null,
      "outputs": [
        {
          "output_type": "execute_result",
          "data": {
            "text/html": [
              "<div>\n",
              "<style scoped>\n",
              "    .dataframe tbody tr th:only-of-type {\n",
              "        vertical-align: middle;\n",
              "    }\n",
              "\n",
              "    .dataframe tbody tr th {\n",
              "        vertical-align: top;\n",
              "    }\n",
              "\n",
              "    .dataframe thead th {\n",
              "        text-align: right;\n",
              "    }\n",
              "</style>\n",
              "<table border=\"1\" class=\"dataframe\">\n",
              "  <thead>\n",
              "    <tr style=\"text-align: right;\">\n",
              "      <th></th>\n",
              "      <th>title</th>\n",
              "      <th>url</th>\n",
              "      <th>date</th>\n",
              "    </tr>\n",
              "  </thead>\n",
              "  <tbody>\n",
              "    <tr>\n",
              "      <th>0</th>\n",
              "      <td>Gaming firm Razer seeks to raise over $600M in...</td>\n",
              "      <td>https://techcrunch.com/2017/07/01/razer-hong-k...</td>\n",
              "      <td>2017-07-01</td>\n",
              "    </tr>\n",
              "    <tr>\n",
              "      <th>1</th>\n",
              "      <td>Mendel.ai nabs $2 million to match cancer pati...</td>\n",
              "      <td>https://techcrunch.com/2017/07/01/mendel-ai-na...</td>\n",
              "      <td>2017-07-01</td>\n",
              "    </tr>\n",
              "    <tr>\n",
              "      <th>2</th>\n",
              "      <td>These cities in Californias East Bay are raki...</td>\n",
              "      <td>https://techcrunch.com/2017/07/01/these-east-b...</td>\n",
              "      <td>2017-07-01</td>\n",
              "    </tr>\n",
              "    <tr>\n",
              "      <th>3</th>\n",
              "      <td>A walk around Station F with Emmanuel Macron</td>\n",
              "      <td>https://techcrunch.com/2017/07/01/a-walk-aroun...</td>\n",
              "      <td>2017-07-01</td>\n",
              "    </tr>\n",
              "    <tr>\n",
              "      <th>4</th>\n",
              "      <td>Crunch Report | Facebook Helps You Find Wi-Fi</td>\n",
              "      <td>https://techcrunch.com/2017/06/30/crunch-repor...</td>\n",
              "      <td>2017-06-30</td>\n",
              "    </tr>\n",
              "  </tbody>\n",
              "</table>\n",
              "</div>"
            ],
            "text/plain": [
              "                                               title  ...       date\n",
              "0  Gaming firm Razer seeks to raise over $600M in...  ... 2017-07-01\n",
              "1  Mendel.ai nabs $2 million to match cancer pati...  ... 2017-07-01\n",
              "2  These cities in Californias East Bay are raki...  ... 2017-07-01\n",
              "3       A walk around Station F with Emmanuel Macron  ... 2017-07-01\n",
              "4      Crunch Report | Facebook Helps You Find Wi-Fi  ... 2017-06-30\n",
              "\n",
              "[5 rows x 3 columns]"
            ]
          },
          "metadata": {
            "tags": []
          },
          "execution_count": 17
        }
      ]
    },
    {
      "cell_type": "code",
      "metadata": {
        "id": "j5ytwlBES5F-",
        "colab": {
          "base_uri": "https://localhost:8080/"
        },
        "outputId": "51204784-7e13-4602-b370-6bfdad2e9e7b"
      },
      "source": [
        "idx = df[df['date'].isnull()].index\n",
        "idx"
      ],
      "execution_count": null,
      "outputs": [
        {
          "output_type": "execute_result",
          "data": {
            "text/plain": [
              "Int64Index([6060, 6061, 6062, 6063, 6064, 6065, 6066, 6067, 6068, 6069, 6070,\n",
              "            6071, 6072, 6073, 6074, 6075, 6076],\n",
              "           dtype='int64')"
            ]
          },
          "metadata": {
            "tags": []
          },
          "execution_count": 18
        }
      ]
    },
    {
      "cell_type": "code",
      "metadata": {
        "id": "SzcitHhTV0g-"
      },
      "source": [
        "df.dropna(inplace=True)"
      ],
      "execution_count": null,
      "outputs": []
    },
    {
      "cell_type": "code",
      "metadata": {
        "id": "cmTj0gQudNyW"
      },
      "source": [
        "import matplotlib.pyplot as plt\n",
        "import matplotlib as mpl\n",
        "import matplotlib.dates as mdates"
      ],
      "execution_count": null,
      "outputs": []
    },
    {
      "cell_type": "code",
      "metadata": {
        "id": "vQZ92e6DgcGP"
      },
      "source": [
        "from sklearn.feature_extraction.text import TfidfVectorizer\n",
        "from sklearn.feature_extraction import text\n",
        "my_stop_words = text.ENGLISH_STOP_WORDS.union([\"million\",\"raises\",\"startup\",\"funds\",\"ceo\",\"billion\",\"startups\",\"funding\",\"york\",\"billions\"])\n",
        "tfidf_vect = TfidfVectorizer(max_df=0.8, min_df=2, stop_words=my_stop_words)\n",
        "doc_term_matrix = tfidf_vect.fit_transform(df['title'].values.astype('U'))"
      ],
      "execution_count": null,
      "outputs": []
    },
    {
      "cell_type": "code",
      "metadata": {
        "id": "2oGUn1rheCKw",
        "colab": {
          "base_uri": "https://localhost:8080/"
        },
        "outputId": "ecf5f589-c518-43bf-d372-39e2da9592f9"
      },
      "source": [
        "from sklearn.decomposition import NMF\n",
        "\n",
        "nmf = NMF(n_components=5, random_state=42)\n",
        "nmf.fit(doc_term_matrix )"
      ],
      "execution_count": null,
      "outputs": [
        {
          "output_type": "execute_result",
          "data": {
            "text/plain": [
              "NMF(alpha=0.0, beta_loss='frobenius', init=None, l1_ratio=0.0, max_iter=200,\n",
              "    n_components=5, random_state=42, shuffle=False, solver='cd', tol=0.0001,\n",
              "    verbose=0)"
            ]
          },
          "metadata": {
            "tags": []
          },
          "execution_count": 22
        }
      ]
    },
    {
      "cell_type": "code",
      "metadata": {
        "id": "OhLnzTOZgJRd",
        "colab": {
          "base_uri": "https://localhost:8080/"
        },
        "outputId": "569efece-a165-4ba2-dc73-efed6a1ab4a7"
      },
      "source": [
        "import random\n",
        "\n",
        "for i in range(10):\n",
        "    random_id = random.randint(0,len(tfidf_vect.get_feature_names()))\n",
        "    print(tfidf_vect.get_feature_names()[random_id])"
      ],
      "execution_count": null,
      "outputs": [
        {
          "output_type": "stream",
          "text": [
            "recruiting\n",
            "kobo\n",
            "ebook\n",
            "200m\n",
            "eric\n",
            "nonprofits\n",
            "bash\n",
            "pleads\n",
            "fine\n",
            "miami\n"
          ],
          "name": "stdout"
        }
      ]
    },
    {
      "cell_type": "code",
      "metadata": {
        "id": "7dpKotAxgOZT"
      },
      "source": [
        "\n",
        "first_topic = nmf.components_[0]\n",
        "top_topic_words = first_topic.argsort()[-10:]"
      ],
      "execution_count": null,
      "outputs": []
    },
    {
      "cell_type": "code",
      "metadata": {
        "id": "A_R706dCgrc_",
        "colab": {
          "base_uri": "https://localhost:8080/"
        },
        "outputId": "ffd363df-c119-498a-d999-449dd71a1bc6"
      },
      "source": [
        "for i in top_topic_words:\n",
        "    print(tfidf_vect.get_feature_names()[i])"
      ],
      "execution_count": null,
      "outputs": [
        {
          "output_type": "stream",
          "text": [
            "car\n",
            "cars\n",
            "microsoft\n",
            "ai\n",
            "fund\n",
            "uber\n",
            "self\n",
            "driving\n",
            "tech\n",
            "new\n"
          ],
          "name": "stdout"
        }
      ]
    },
    {
      "cell_type": "code",
      "metadata": {
        "id": "w6All_46kIKE"
      },
      "source": [
        "sec_topic = nmf.components_[1]\n",
        "top_topic_words1 = sec_topic.argsort()[-40:]"
      ],
      "execution_count": null,
      "outputs": []
    },
    {
      "cell_type": "code",
      "metadata": {
        "id": "s7jyDm7qkSmM",
        "colab": {
          "base_uri": "https://localhost:8080/"
        },
        "outputId": "9f003a49-cb7a-4906-cd31-e6d6e6d9735c"
      },
      "source": [
        "for i in top_topic_words:\n",
        "    print(tfidf_vect.get_feature_names()[i])"
      ],
      "execution_count": null,
      "outputs": [
        {
          "output_type": "stream",
          "text": [
            "car\n",
            "cars\n",
            "microsoft\n",
            "ai\n",
            "fund\n",
            "uber\n",
            "self\n",
            "driving\n",
            "tech\n",
            "new\n"
          ],
          "name": "stdout"
        }
      ]
    },
    {
      "cell_type": "code",
      "metadata": {
        "id": "Afab_GSXgvgP",
        "colab": {
          "base_uri": "https://localhost:8080/"
        },
        "outputId": "32557fd5-494c-447c-9432-1d1cabd4ae09"
      },
      "source": [
        "for i,topic in enumerate(nmf.components_):\n",
        "    print(f'Top 10 words for topic #{i}:')\n",
        "    print([tfidf_vect.get_feature_names()[i] for i in topic.argsort()[-10:]])\n",
        "    print('\\n')"
      ],
      "execution_count": null,
      "outputs": [
        {
          "output_type": "stream",
          "text": [
            "Top 10 words for topic #0:\n",
            "['car', 'cars', 'microsoft', 'ai', 'fund', 'uber', 'self', 'driving', 'tech', 'new']\n",
            "\n",
            "\n",
            "Top 10 words for topic #1:\n",
            "['apple', 'waymo', 'spacex', 'lyft', 'diversity', 'buys', 'tesla', 'uber', 'crunch', 'report']\n",
            "\n",
            "\n",
            "Top 10 words for topic #2:\n",
            "['day', 'watch', 'techcrunch', 'battlefield', 'tickets', 'ny', '2017', 'sf', 'berlin', 'disrupt']\n",
            "\n",
            "\n",
            "Top 10 words for topic #3:\n",
            "['maps', 'pixel', 'assistant', 'search', 'launches', 'ai', 'android', 'home', 'cloud', 'google']\n",
            "\n",
            "\n",
            "Top 10 words for topic #4:\n",
            "['watch', 'video', 'launches', 'service', 'tv', 'live', 'amazon', 'facebook', 'apple', 'app']\n",
            "\n",
            "\n"
          ],
          "name": "stdout"
        }
      ]
    },
    {
      "cell_type": "code",
      "metadata": {
        "id": "q0c_3NbjhXC0",
        "colab": {
          "base_uri": "https://localhost:8080/",
          "height": 195
        },
        "outputId": "4746cac2-a711-4a54-a708-da5df001b3a3"
      },
      "source": [
        "topic_values = nmf.transform(doc_term_matrix)\n",
        "df['Topic_nmf'] = topic_values.argmax(axis=1)\n",
        "df.head()"
      ],
      "execution_count": null,
      "outputs": [
        {
          "output_type": "execute_result",
          "data": {
            "text/html": [
              "<div>\n",
              "<style scoped>\n",
              "    .dataframe tbody tr th:only-of-type {\n",
              "        vertical-align: middle;\n",
              "    }\n",
              "\n",
              "    .dataframe tbody tr th {\n",
              "        vertical-align: top;\n",
              "    }\n",
              "\n",
              "    .dataframe thead th {\n",
              "        text-align: right;\n",
              "    }\n",
              "</style>\n",
              "<table border=\"1\" class=\"dataframe\">\n",
              "  <thead>\n",
              "    <tr style=\"text-align: right;\">\n",
              "      <th></th>\n",
              "      <th>title</th>\n",
              "      <th>url</th>\n",
              "      <th>date</th>\n",
              "      <th>Topic_nmf</th>\n",
              "    </tr>\n",
              "  </thead>\n",
              "  <tbody>\n",
              "    <tr>\n",
              "      <th>0</th>\n",
              "      <td>Gaming firm Razer seeks to raise over $600M in...</td>\n",
              "      <td>https://techcrunch.com/2017/07/01/razer-hong-k...</td>\n",
              "      <td>2017-07-01</td>\n",
              "      <td>4</td>\n",
              "    </tr>\n",
              "    <tr>\n",
              "      <th>1</th>\n",
              "      <td>Mendel.ai nabs $2 million to match cancer pati...</td>\n",
              "      <td>https://techcrunch.com/2017/07/01/mendel-ai-na...</td>\n",
              "      <td>2017-07-01</td>\n",
              "      <td>3</td>\n",
              "    </tr>\n",
              "    <tr>\n",
              "      <th>2</th>\n",
              "      <td>These cities in Californias East Bay are raki...</td>\n",
              "      <td>https://techcrunch.com/2017/07/01/these-east-b...</td>\n",
              "      <td>2017-07-01</td>\n",
              "      <td>0</td>\n",
              "    </tr>\n",
              "    <tr>\n",
              "      <th>3</th>\n",
              "      <td>A walk around Station F with Emmanuel Macron</td>\n",
              "      <td>https://techcrunch.com/2017/07/01/a-walk-aroun...</td>\n",
              "      <td>2017-07-01</td>\n",
              "      <td>0</td>\n",
              "    </tr>\n",
              "    <tr>\n",
              "      <th>4</th>\n",
              "      <td>Crunch Report | Facebook Helps You Find Wi-Fi</td>\n",
              "      <td>https://techcrunch.com/2017/06/30/crunch-repor...</td>\n",
              "      <td>2017-06-30</td>\n",
              "      <td>1</td>\n",
              "    </tr>\n",
              "  </tbody>\n",
              "</table>\n",
              "</div>"
            ],
            "text/plain": [
              "                                               title  ... Topic_nmf\n",
              "0  Gaming firm Razer seeks to raise over $600M in...  ...         4\n",
              "1  Mendel.ai nabs $2 million to match cancer pati...  ...         3\n",
              "2  These cities in Californias East Bay are raki...  ...         0\n",
              "3       A walk around Station F with Emmanuel Macron  ...         0\n",
              "4      Crunch Report | Facebook Helps You Find Wi-Fi  ...         1\n",
              "\n",
              "[5 rows x 4 columns]"
            ]
          },
          "metadata": {
            "tags": []
          },
          "execution_count": 29
        }
      ]
    },
    {
      "cell_type": "code",
      "metadata": {
        "id": "WwrxxTSig1u_",
        "colab": {
          "base_uri": "https://localhost:8080/"
        },
        "outputId": "a5a07898-2be1-472d-df33-d33d0cff10e1"
      },
      "source": [
        "df['Topic_nmf'].value_counts() "
      ],
      "execution_count": null,
      "outputs": [
        {
          "output_type": "execute_result",
          "data": {
            "text/plain": [
              "4    6108\n",
              "0    2940\n",
              "3    1844\n",
              "2     953\n",
              "1     532\n",
              "Name: Topic_nmf, dtype: int64"
            ]
          },
          "metadata": {
            "tags": []
          },
          "execution_count": 30
        }
      ]
    },
    {
      "cell_type": "code",
      "metadata": {
        "id": "c_52rPSZVX7x"
      },
      "source": [
        "df['MONTHLY'] = df['date'].map(lambda x: '{year}-{month}'.format(year=x.year,\n",
        "                                                              month=x.month,\n",
        "                                                              day=x.day))"
      ],
      "execution_count": null,
      "outputs": []
    },
    {
      "cell_type": "code",
      "metadata": {
        "colab": {
          "base_uri": "https://localhost:8080/",
          "height": 195
        },
        "id": "yPJlpqUbXSh3",
        "outputId": "1a36320b-c8fd-4c3f-9003-08c1c300e6e9"
      },
      "source": [
        "df.head()"
      ],
      "execution_count": null,
      "outputs": [
        {
          "output_type": "execute_result",
          "data": {
            "text/html": [
              "<div>\n",
              "<style scoped>\n",
              "    .dataframe tbody tr th:only-of-type {\n",
              "        vertical-align: middle;\n",
              "    }\n",
              "\n",
              "    .dataframe tbody tr th {\n",
              "        vertical-align: top;\n",
              "    }\n",
              "\n",
              "    .dataframe thead th {\n",
              "        text-align: right;\n",
              "    }\n",
              "</style>\n",
              "<table border=\"1\" class=\"dataframe\">\n",
              "  <thead>\n",
              "    <tr style=\"text-align: right;\">\n",
              "      <th></th>\n",
              "      <th>title</th>\n",
              "      <th>url</th>\n",
              "      <th>date</th>\n",
              "      <th>Topic_nmf</th>\n",
              "      <th>MONTHLY</th>\n",
              "    </tr>\n",
              "  </thead>\n",
              "  <tbody>\n",
              "    <tr>\n",
              "      <th>0</th>\n",
              "      <td>Gaming firm Razer seeks to raise over $600M in...</td>\n",
              "      <td>https://techcrunch.com/2017/07/01/razer-hong-k...</td>\n",
              "      <td>2017-07-01</td>\n",
              "      <td>4</td>\n",
              "      <td>2017-7</td>\n",
              "    </tr>\n",
              "    <tr>\n",
              "      <th>1</th>\n",
              "      <td>Mendel.ai nabs $2 million to match cancer pati...</td>\n",
              "      <td>https://techcrunch.com/2017/07/01/mendel-ai-na...</td>\n",
              "      <td>2017-07-01</td>\n",
              "      <td>3</td>\n",
              "      <td>2017-7</td>\n",
              "    </tr>\n",
              "    <tr>\n",
              "      <th>2</th>\n",
              "      <td>These cities in Californias East Bay are raki...</td>\n",
              "      <td>https://techcrunch.com/2017/07/01/these-east-b...</td>\n",
              "      <td>2017-07-01</td>\n",
              "      <td>0</td>\n",
              "      <td>2017-7</td>\n",
              "    </tr>\n",
              "    <tr>\n",
              "      <th>3</th>\n",
              "      <td>A walk around Station F with Emmanuel Macron</td>\n",
              "      <td>https://techcrunch.com/2017/07/01/a-walk-aroun...</td>\n",
              "      <td>2017-07-01</td>\n",
              "      <td>0</td>\n",
              "      <td>2017-7</td>\n",
              "    </tr>\n",
              "    <tr>\n",
              "      <th>4</th>\n",
              "      <td>Crunch Report | Facebook Helps You Find Wi-Fi</td>\n",
              "      <td>https://techcrunch.com/2017/06/30/crunch-repor...</td>\n",
              "      <td>2017-06-30</td>\n",
              "      <td>1</td>\n",
              "      <td>2017-6</td>\n",
              "    </tr>\n",
              "  </tbody>\n",
              "</table>\n",
              "</div>"
            ],
            "text/plain": [
              "                                               title  ... MONTHLY\n",
              "0  Gaming firm Razer seeks to raise over $600M in...  ...  2017-7\n",
              "1  Mendel.ai nabs $2 million to match cancer pati...  ...  2017-7\n",
              "2  These cities in Californias East Bay are raki...  ...  2017-7\n",
              "3       A walk around Station F with Emmanuel Macron  ...  2017-7\n",
              "4      Crunch Report | Facebook Helps You Find Wi-Fi  ...  2017-6\n",
              "\n",
              "[5 rows x 5 columns]"
            ]
          },
          "metadata": {
            "tags": []
          },
          "execution_count": 32
        }
      ]
    },
    {
      "cell_type": "code",
      "metadata": {
        "id": "FmeJ8cjoyyQl"
      },
      "source": [
        "from google.colab import files"
      ],
      "execution_count": null,
      "outputs": []
    },
    {
      "cell_type": "code",
      "metadata": {
        "colab": {
          "base_uri": "https://localhost:8080/",
          "height": 17
        },
        "id": "_GfKt3bsSGjM",
        "outputId": "de4b95a3-692b-40bd-d9e1-c95858e08c92"
      },
      "source": [
        "data=df.to_csv(\"plotdata.csv\")\n",
        "files.download(\"plotdata.csv\")"
      ],
      "execution_count": null,
      "outputs": [
        {
          "output_type": "display_data",
          "data": {
            "application/javascript": [
              "\n",
              "    async function download(id, filename, size) {\n",
              "      if (!google.colab.kernel.accessAllowed) {\n",
              "        return;\n",
              "      }\n",
              "      const div = document.createElement('div');\n",
              "      const label = document.createElement('label');\n",
              "      label.textContent = `Downloading \"${filename}\": `;\n",
              "      div.appendChild(label);\n",
              "      const progress = document.createElement('progress');\n",
              "      progress.max = size;\n",
              "      div.appendChild(progress);\n",
              "      document.body.appendChild(div);\n",
              "\n",
              "      const buffers = [];\n",
              "      let downloaded = 0;\n",
              "\n",
              "      const channel = await google.colab.kernel.comms.open(id);\n",
              "      // Send a message to notify the kernel that we're ready.\n",
              "      channel.send({})\n",
              "\n",
              "      for await (const message of channel.messages) {\n",
              "        // Send a message to notify the kernel that we're ready.\n",
              "        channel.send({})\n",
              "        if (message.buffers) {\n",
              "          for (const buffer of message.buffers) {\n",
              "            buffers.push(buffer);\n",
              "            downloaded += buffer.byteLength;\n",
              "            progress.value = downloaded;\n",
              "          }\n",
              "        }\n",
              "      }\n",
              "      const blob = new Blob(buffers, {type: 'application/binary'});\n",
              "      const a = document.createElement('a');\n",
              "      a.href = window.URL.createObjectURL(blob);\n",
              "      a.download = filename;\n",
              "      div.appendChild(a);\n",
              "      a.click();\n",
              "      div.remove();\n",
              "    }\n",
              "  "
            ],
            "text/plain": [
              "<IPython.core.display.Javascript object>"
            ]
          },
          "metadata": {
            "tags": []
          }
        },
        {
          "output_type": "display_data",
          "data": {
            "application/javascript": [
              "download(\"download_eae34a29-fa01-4f77-bfea-ec344d4e5f2f\", \"plotdata.csv\", 2311279)"
            ],
            "text/plain": [
              "<IPython.core.display.Javascript object>"
            ]
          },
          "metadata": {
            "tags": []
          }
        }
      ]
    },
    {
      "cell_type": "code",
      "metadata": {
        "id": "TjiLQEgZXZYa"
      },
      "source": [
        "a = df.groupby(['Topic_nmf','MONTHLY']).size()"
      ],
      "execution_count": null,
      "outputs": []
    },
    {
      "cell_type": "code",
      "metadata": {
        "colab": {
          "base_uri": "https://localhost:8080/"
        },
        "id": "Iy8_fUcGXgiA",
        "outputId": "6afea95f-6545-40b2-c7e0-9992b660bb93"
      },
      "source": [
        "a"
      ],
      "execution_count": null,
      "outputs": [
        {
          "output_type": "execute_result",
          "data": {
            "text/plain": [
              "Topic_nmf  MONTHLY\n",
              "0          2017-1     301\n",
              "           2017-10    252\n",
              "           2017-11    216\n",
              "           2017-12     65\n",
              "           2017-2     248\n",
              "           2017-3     252\n",
              "           2017-4     264\n",
              "           2017-5     265\n",
              "           2017-6     257\n",
              "           2017-7     238\n",
              "           2017-8     294\n",
              "           2017-9     288\n",
              "1          2017-1      51\n",
              "           2017-10     45\n",
              "           2017-11     50\n",
              "           2017-12      4\n",
              "           2017-2      44\n",
              "           2017-3      57\n",
              "           2017-4      47\n",
              "           2017-5      40\n",
              "           2017-6      54\n",
              "           2017-7      43\n",
              "           2017-8      56\n",
              "           2017-9      41\n",
              "2          2017-1      99\n",
              "           2017-10     63\n",
              "           2017-11     80\n",
              "           2017-12     24\n",
              "           2017-2      84\n",
              "           2017-3      77\n",
              "           2017-4      84\n",
              "           2017-5      81\n",
              "           2017-6      84\n",
              "           2017-7      76\n",
              "           2017-8      93\n",
              "           2017-9     108\n",
              "3          2017-1     196\n",
              "           2017-10    190\n",
              "           2017-11    136\n",
              "           2017-12     34\n",
              "           2017-2     159\n",
              "           2017-3     168\n",
              "           2017-4     147\n",
              "           2017-5     199\n",
              "           2017-6     124\n",
              "           2017-7     153\n",
              "           2017-8     188\n",
              "           2017-9     150\n",
              "4          2017-1     600\n",
              "           2017-10    577\n",
              "           2017-11    542\n",
              "           2017-12    125\n",
              "           2017-2     527\n",
              "           2017-3     544\n",
              "           2017-4     505\n",
              "           2017-5     521\n",
              "           2017-6     521\n",
              "           2017-7     487\n",
              "           2017-8     560\n",
              "           2017-9     599\n",
              "dtype: int64"
            ]
          },
          "metadata": {
            "tags": []
          },
          "execution_count": 36
        }
      ]
    },
    {
      "cell_type": "code",
      "metadata": {
        "colab": {
          "base_uri": "https://localhost:8080/"
        },
        "id": "I-1vP2ZGXlKu",
        "outputId": "2aebbaf9-439c-4865-ec0f-ea17907bbbe5"
      },
      "source": [
        "a.dropna()"
      ],
      "execution_count": null,
      "outputs": [
        {
          "output_type": "execute_result",
          "data": {
            "text/plain": [
              "Topic_nmf  MONTHLY\n",
              "0          2017-1     301\n",
              "           2017-10    252\n",
              "           2017-11    216\n",
              "           2017-12     65\n",
              "           2017-2     248\n",
              "           2017-3     252\n",
              "           2017-4     264\n",
              "           2017-5     265\n",
              "           2017-6     257\n",
              "           2017-7     238\n",
              "           2017-8     294\n",
              "           2017-9     288\n",
              "1          2017-1      51\n",
              "           2017-10     45\n",
              "           2017-11     50\n",
              "           2017-12      4\n",
              "           2017-2      44\n",
              "           2017-3      57\n",
              "           2017-4      47\n",
              "           2017-5      40\n",
              "           2017-6      54\n",
              "           2017-7      43\n",
              "           2017-8      56\n",
              "           2017-9      41\n",
              "2          2017-1      99\n",
              "           2017-10     63\n",
              "           2017-11     80\n",
              "           2017-12     24\n",
              "           2017-2      84\n",
              "           2017-3      77\n",
              "           2017-4      84\n",
              "           2017-5      81\n",
              "           2017-6      84\n",
              "           2017-7      76\n",
              "           2017-8      93\n",
              "           2017-9     108\n",
              "3          2017-1     196\n",
              "           2017-10    190\n",
              "           2017-11    136\n",
              "           2017-12     34\n",
              "           2017-2     159\n",
              "           2017-3     168\n",
              "           2017-4     147\n",
              "           2017-5     199\n",
              "           2017-6     124\n",
              "           2017-7     153\n",
              "           2017-8     188\n",
              "           2017-9     150\n",
              "4          2017-1     600\n",
              "           2017-10    577\n",
              "           2017-11    542\n",
              "           2017-12    125\n",
              "           2017-2     527\n",
              "           2017-3     544\n",
              "           2017-4     505\n",
              "           2017-5     521\n",
              "           2017-6     521\n",
              "           2017-7     487\n",
              "           2017-8     560\n",
              "           2017-9     599\n",
              "dtype: int64"
            ]
          },
          "metadata": {
            "tags": []
          },
          "execution_count": 37
        }
      ]
    },
    {
      "cell_type": "code",
      "metadata": {
        "id": "ZVB_xQYIJS4o"
      },
      "source": [
        "import numpy as np\n",
        "import matplotlib.pyplot as plt\n",
        "import pandas"
      ],
      "execution_count": null,
      "outputs": []
    },
    {
      "cell_type": "code",
      "metadata": {
        "colab": {
          "base_uri": "https://localhost:8080/"
        },
        "id": "9EPXzLoqXhop",
        "outputId": "b9f9ecf8-aed7-45f3-d3be-658588c5166a"
      },
      "source": [
        "a.head()"
      ],
      "execution_count": null,
      "outputs": [
        {
          "output_type": "execute_result",
          "data": {
            "text/plain": [
              "Topic_nmf  MONTHLY\n",
              "0          2017-1     301\n",
              "           2017-10    252\n",
              "           2017-11    216\n",
              "           2017-12     65\n",
              "           2017-2     248\n",
              "dtype: int64"
            ]
          },
          "metadata": {
            "tags": []
          },
          "execution_count": 39
        }
      ]
    },
    {
      "cell_type": "code",
      "metadata": {
        "id": "2XkETwkAX5v9"
      },
      "source": [
        "x=a.to_csv('abc.csv')"
      ],
      "execution_count": null,
      "outputs": []
    },
    {
      "cell_type": "code",
      "metadata": {
        "colab": {
          "base_uri": "https://localhost:8080/",
          "height": 17
        },
        "id": "mVWKmzqsYLHP",
        "outputId": "ca05a860-9452-471d-dd3a-6bfa557a9f89"
      },
      "source": [
        "from google.colab import files\n",
        "files.download('abc.csv')"
      ],
      "execution_count": null,
      "outputs": [
        {
          "output_type": "display_data",
          "data": {
            "application/javascript": [
              "\n",
              "    async function download(id, filename, size) {\n",
              "      if (!google.colab.kernel.accessAllowed) {\n",
              "        return;\n",
              "      }\n",
              "      const div = document.createElement('div');\n",
              "      const label = document.createElement('label');\n",
              "      label.textContent = `Downloading \"${filename}\": `;\n",
              "      div.appendChild(label);\n",
              "      const progress = document.createElement('progress');\n",
              "      progress.max = size;\n",
              "      div.appendChild(progress);\n",
              "      document.body.appendChild(div);\n",
              "\n",
              "      const buffers = [];\n",
              "      let downloaded = 0;\n",
              "\n",
              "      const channel = await google.colab.kernel.comms.open(id);\n",
              "      // Send a message to notify the kernel that we're ready.\n",
              "      channel.send({})\n",
              "\n",
              "      for await (const message of channel.messages) {\n",
              "        // Send a message to notify the kernel that we're ready.\n",
              "        channel.send({})\n",
              "        if (message.buffers) {\n",
              "          for (const buffer of message.buffers) {\n",
              "            buffers.push(buffer);\n",
              "            downloaded += buffer.byteLength;\n",
              "            progress.value = downloaded;\n",
              "          }\n",
              "        }\n",
              "      }\n",
              "      const blob = new Blob(buffers, {type: 'application/binary'});\n",
              "      const a = document.createElement('a');\n",
              "      a.href = window.URL.createObjectURL(blob);\n",
              "      a.download = filename;\n",
              "      div.appendChild(a);\n",
              "      a.click();\n",
              "      div.remove();\n",
              "    }\n",
              "  "
            ],
            "text/plain": [
              "<IPython.core.display.Javascript object>"
            ]
          },
          "metadata": {
            "tags": []
          }
        },
        {
          "output_type": "display_data",
          "data": {
            "application/javascript": [
              "download(\"download_12de2fb6-253d-4d52-ae2e-b5e016ea683a\", \"abc.csv\", 789)"
            ],
            "text/plain": [
              "<IPython.core.display.Javascript object>"
            ]
          },
          "metadata": {
            "tags": []
          }
        }
      ]
    },
    {
      "cell_type": "markdown",
      "metadata": {
        "id": "DQVnEbbmZw_b"
      },
      "source": [
        "TRY"
      ]
    },
    {
      "cell_type": "code",
      "metadata": {
        "id": "6ZAgI3knbZV5"
      },
      "source": [
        "zero=pd.read_csv(dirname[0])"
      ],
      "execution_count": null,
      "outputs": []
    },
    {
      "cell_type": "code",
      "metadata": {
        "id": "l-sdyaa2glsE"
      },
      "source": [
        "zero['DATE']=pd.to_datetime(zero['DATE'])"
      ],
      "execution_count": null,
      "outputs": []
    },
    {
      "cell_type": "code",
      "metadata": {
        "colab": {
          "base_uri": "https://localhost:8080/"
        },
        "id": "jUUjCTzQgtsM",
        "outputId": "5902f4aa-27c8-4c6a-df30-8f46fc6ef03c"
      },
      "source": [
        "zero.info()"
      ],
      "execution_count": null,
      "outputs": [
        {
          "output_type": "stream",
          "text": [
            "<class 'pandas.core.frame.DataFrame'>\n",
            "RangeIndex: 12 entries, 0 to 11\n",
            "Data columns (total 2 columns):\n",
            " #   Column  Non-Null Count  Dtype         \n",
            "---  ------  --------------  -----         \n",
            " 0   DATE    12 non-null     datetime64[ns]\n",
            " 1   Freq    12 non-null     int64         \n",
            "dtypes: datetime64[ns](1), int64(1)\n",
            "memory usage: 320.0 bytes\n"
          ],
          "name": "stdout"
        }
      ]
    },
    {
      "cell_type": "code",
      "metadata": {
        "colab": {
          "base_uri": "https://localhost:8080/",
          "height": 195
        },
        "id": "-zMBd06Hgw5O",
        "outputId": "0bc6cea9-97c6-4e23-c916-0cb6b5ce0971"
      },
      "source": [
        "zero.head()"
      ],
      "execution_count": null,
      "outputs": [
        {
          "output_type": "execute_result",
          "data": {
            "text/html": [
              "<div>\n",
              "<style scoped>\n",
              "    .dataframe tbody tr th:only-of-type {\n",
              "        vertical-align: middle;\n",
              "    }\n",
              "\n",
              "    .dataframe tbody tr th {\n",
              "        vertical-align: top;\n",
              "    }\n",
              "\n",
              "    .dataframe thead th {\n",
              "        text-align: right;\n",
              "    }\n",
              "</style>\n",
              "<table border=\"1\" class=\"dataframe\">\n",
              "  <thead>\n",
              "    <tr style=\"text-align: right;\">\n",
              "      <th></th>\n",
              "      <th>DATE</th>\n",
              "      <th>Freq</th>\n",
              "    </tr>\n",
              "  </thead>\n",
              "  <tbody>\n",
              "    <tr>\n",
              "      <th>0</th>\n",
              "      <td>2017-01-01</td>\n",
              "      <td>298</td>\n",
              "    </tr>\n",
              "    <tr>\n",
              "      <th>1</th>\n",
              "      <td>2017-02-01</td>\n",
              "      <td>246</td>\n",
              "    </tr>\n",
              "    <tr>\n",
              "      <th>2</th>\n",
              "      <td>2017-03-01</td>\n",
              "      <td>250</td>\n",
              "    </tr>\n",
              "    <tr>\n",
              "      <th>3</th>\n",
              "      <td>2017-04-01</td>\n",
              "      <td>263</td>\n",
              "    </tr>\n",
              "    <tr>\n",
              "      <th>4</th>\n",
              "      <td>2017-05-01</td>\n",
              "      <td>264</td>\n",
              "    </tr>\n",
              "  </tbody>\n",
              "</table>\n",
              "</div>"
            ],
            "text/plain": [
              "        DATE  Freq\n",
              "0 2017-01-01   298\n",
              "1 2017-02-01   246\n",
              "2 2017-03-01   250\n",
              "3 2017-04-01   263\n",
              "4 2017-05-01   264"
            ]
          },
          "metadata": {
            "tags": []
          },
          "execution_count": 147
        }
      ]
    },
    {
      "cell_type": "code",
      "metadata": {
        "id": "wdcohAmYgy--"
      },
      "source": [
        "series = pd.read_csv(dirname[0], \\\n",
        "                     header=0, \\\n",
        "                     parse_dates=[0], \\\n",
        "                     index_col=0, \\\n",
        "                     squeeze=True, \\\n",
        ")"
      ],
      "execution_count": null,
      "outputs": []
    },
    {
      "cell_type": "code",
      "metadata": {
        "colab": {
          "base_uri": "https://localhost:8080/"
        },
        "id": "Z9lWLuRPhhfa",
        "outputId": "be4996da-92f5-48c3-e6b7-60fa81e58aec"
      },
      "source": [
        "series"
      ],
      "execution_count": null,
      "outputs": [
        {
          "output_type": "execute_result",
          "data": {
            "text/plain": [
              "DATE\n",
              "2017-01-01    298\n",
              "2017-02-01    246\n",
              "2017-03-01    250\n",
              "2017-04-01    263\n",
              "2017-05-01    264\n",
              "2017-06-01    257\n",
              "2017-07-01    235\n",
              "2017-08-01    293\n",
              "2017-09-01    283\n",
              "2017-10-01    251\n",
              "2017-11-01    212\n",
              "2017-12-01     65\n",
              "Name: Freq, dtype: int64"
            ]
          },
          "metadata": {
            "tags": []
          },
          "execution_count": 149
        }
      ]
    },
    {
      "cell_type": "code",
      "metadata": {
        "id": "hAQfJigrh2YW"
      },
      "source": [
        "import matplotlib.pyplot as plt"
      ],
      "execution_count": null,
      "outputs": []
    },
    {
      "cell_type": "code",
      "metadata": {
        "colab": {
          "base_uri": "https://localhost:8080/",
          "height": 296
        },
        "id": "F7wESXGth9gi",
        "outputId": "6d0f93f4-1398-4dda-93a4-50880b92eaf9"
      },
      "source": [
        "series.plot()\n",
        "plt.show()"
      ],
      "execution_count": null,
      "outputs": [
        {
          "output_type": "display_data",
          "data": {
            "image/png": "[encoded data removed]",
            "text/plain": [
              "<Figure size 432x288 with 1 Axes>"
            ]
          },
          "metadata": {
            "tags": []
          }
        }
      ]
    },
    {
      "cell_type": "code",
      "metadata": {
        "id": "hvxb5PnEiqej"
      },
      "source": [
        "from statsmodels.tsa.arima_model import ARIMA"
      ],
      "execution_count": null,
      "outputs": []
    },
    {
      "cell_type": "code",
      "metadata": {
        "colab": {
          "base_uri": "https://localhost:8080/"
        },
        "id": "CbQJCs6MjBxP",
        "outputId": "09683694-d855-4f28-bf25-54dff24d4f07"
      },
      "source": [
        "X = series.values\n",
        "train, test = X[0:9], X[9:]\n",
        "history = [x for x in train]\n",
        "predictions = []\n",
        "for t in range(len(test)):\n",
        "    model = ARIMA(history, order=(1,1,0))\n",
        "    model_fit = model.fit(disp=0)\n",
        "    output = model_fit.forecast()\n",
        "    yhat = output[0]\n",
        "    predictions.append(yhat)\n",
        "    obs = test[t]\n",
        "    history.append(obs)\n",
        "    print('predicted=%d, expected=%d' % (yhat, obs))"
      ],
      "execution_count": null,
      "outputs": [
        {
          "output_type": "stream",
          "text": [
            "predicted=287, expected=251\n",
            "predicted=255, expected=212\n",
            "predicted=205, expected=65\n"
          ],
          "name": "stdout"
        }
      ]
    },
    {
      "cell_type": "code",
      "metadata": {
        "id": "-zZrZqeDoieo"
      },
      "source": [
        "predyear = model_fit.forecast(steps=1)[0]"
      ],
      "execution_count": null,
      "outputs": []
    },
    {
      "cell_type": "code",
      "metadata": {
        "id": "NiJTH0AVp0qC",
        "colab": {
          "base_uri": "https://localhost:8080/"
        },
        "outputId": "8efe9437-045e-4f93-d06e-028554c134a8"
      },
      "source": [
        "print(predyear.astype(int))"
      ],
      "execution_count": null,
      "outputs": [
        {
          "output_type": "stream",
          "text": [
            "[522]\n"
          ],
          "name": "stdout"
        }
      ]
    },
    {
      "cell_type": "code",
      "metadata": {
        "id": "rWgN5hIninBw"
      },
      "source": [
        "mape = np.mean(np.abs(yhat - obs)/np.abs(yhat))"
      ],
      "execution_count": null,
      "outputs": []
    },
    {
      "cell_type": "code",
      "metadata": {
        "colab": {
          "base_uri": "https://localhost:8080/"
        },
        "id": "aLvYBZEXjG2t",
        "outputId": "54f3a41d-1777-423b-a9c1-7075c03d2dcd"
      },
      "source": [
        "mape"
      ],
      "execution_count": null,
      "outputs": [
        {
          "output_type": "execute_result",
          "data": {
            "text/plain": [
              "0.1461732422466438"
            ]
          },
          "metadata": {
            "tags": []
          },
          "execution_count": 137
        }
      ]
    },
    {
      "cell_type": "code",
      "metadata": {
        "id": "jbYm_PsojH4q"
      },
      "source": [
        "pred1 = model_fit.forecast(steps=1)[0]"
      ],
      "execution_count": null,
      "outputs": []
    },
    {
      "cell_type": "code",
      "metadata": {
        "colab": {
          "base_uri": "https://localhost:8080/"
        },
        "id": "544ftoadlYHI",
        "outputId": "b479251a-5743-4437-a8ad-82e26d4af546"
      },
      "source": [
        "print(pred1.astype(int))"
      ],
      "execution_count": null,
      "outputs": [
        {
          "output_type": "stream",
          "text": [
            "[522]\n"
          ],
          "name": "stdout"
        }
      ]
    },
    {
      "cell_type": "code",
      "metadata": {
        "id": "VHm4Y4edldAp"
      },
      "source": [
        "pred3 = model_fit.forecast(steps=3)[0]"
      ],
      "execution_count": null,
      "outputs": []
    },
    {
      "cell_type": "code",
      "metadata": {
        "id": "COuIkkuUllIn",
        "colab": {
          "base_uri": "https://localhost:8080/"
        },
        "outputId": "9b401205-693a-4760-c9b7-535de9e03f6b"
      },
      "source": [
        "pred3.astype(int)"
      ],
      "execution_count": null,
      "outputs": [
        {
          "output_type": "execute_result",
          "data": {
            "text/plain": [
              "array([522, 529, 518])"
            ]
          },
          "metadata": {
            "tags": []
          },
          "execution_count": 141
        }
      ]
    },
    {
      "cell_type": "code",
      "metadata": {
        "id": "wrTenH3sv-D_"
      },
      "source": [
        "pred12 = model_fit.forecast(steps=12)[0]"
      ],
      "execution_count": null,
      "outputs": []
    },
    {
      "cell_type": "code",
      "metadata": {
        "colab": {
          "base_uri": "https://localhost:8080/"
        },
        "id": "lL-_UpIWwEgd",
        "outputId": "3159e27e-3b76-4ae2-9371-b712994f8656"
      },
      "source": [
        "pred12.astype(int)"
      ],
      "execution_count": null,
      "outputs": [
        {
          "output_type": "execute_result",
          "data": {
            "text/plain": [
              "array([522, 529, 518, 514, 508, 502, 497, 491, 485, 479, 474, 468])"
            ]
          },
          "metadata": {
            "tags": []
          },
          "execution_count": 143
        }
      ]
    },
    {
      "cell_type": "markdown",
      "metadata": {
        "id": "pQy-yQ5yN9dI"
      },
      "source": [
        "PLOT"
      ]
    },
    {
      "cell_type": "markdown",
      "metadata": {
        "id": "C2tFMuNPvlZx"
      },
      "source": [
        "Graph"
      ]
    },
    {
      "cell_type": "code",
      "metadata": {
        "id": "ux0FnDMTN-YF"
      },
      "source": [
        "plotdata=pd.read_csv(dirname[2])"
      ],
      "execution_count": null,
      "outputs": []
    },
    {
      "cell_type": "code",
      "metadata": {
        "colab": {
          "base_uri": "https://localhost:8080/",
          "height": 195
        },
        "id": "hbE3USs_OH0n",
        "outputId": "791486af-6056-4ad4-e621-ad1305437cf1"
      },
      "source": [
        "plotdata.head()"
      ],
      "execution_count": null,
      "outputs": [
        {
          "output_type": "execute_result",
          "data": {
            "text/html": [
              "<div>\n",
              "<style scoped>\n",
              "    .dataframe tbody tr th:only-of-type {\n",
              "        vertical-align: middle;\n",
              "    }\n",
              "\n",
              "    .dataframe tbody tr th {\n",
              "        vertical-align: top;\n",
              "    }\n",
              "\n",
              "    .dataframe thead th {\n",
              "        text-align: right;\n",
              "    }\n",
              "</style>\n",
              "<table border=\"1\" class=\"dataframe\">\n",
              "  <thead>\n",
              "    <tr style=\"text-align: right;\">\n",
              "      <th></th>\n",
              "      <th>date</th>\n",
              "      <th>Topic</th>\n",
              "      <th>Topic_nmf</th>\n",
              "      <th>MONTHLY</th>\n",
              "      <th>INTERVAL_15</th>\n",
              "      <th>quarter</th>\n",
              "    </tr>\n",
              "  </thead>\n",
              "  <tbody>\n",
              "    <tr>\n",
              "      <th>0</th>\n",
              "      <td>1/1/2017</td>\n",
              "      <td>5.0</td>\n",
              "      <td>4.0</td>\n",
              "      <td>2017-1</td>\n",
              "      <td>1/15/2017</td>\n",
              "      <td>Q1</td>\n",
              "    </tr>\n",
              "    <tr>\n",
              "      <th>1</th>\n",
              "      <td>1/1/2017</td>\n",
              "      <td>3.0</td>\n",
              "      <td>4.0</td>\n",
              "      <td>2017-1</td>\n",
              "      <td>1/15/2017</td>\n",
              "      <td>Q1</td>\n",
              "    </tr>\n",
              "    <tr>\n",
              "      <th>2</th>\n",
              "      <td>1/1/2017</td>\n",
              "      <td>2.0</td>\n",
              "      <td>2.0</td>\n",
              "      <td>2017-1</td>\n",
              "      <td>1/15/2017</td>\n",
              "      <td>Q1</td>\n",
              "    </tr>\n",
              "    <tr>\n",
              "      <th>3</th>\n",
              "      <td>1/1/2017</td>\n",
              "      <td>2.0</td>\n",
              "      <td>0.0</td>\n",
              "      <td>2017-1</td>\n",
              "      <td>1/15/2017</td>\n",
              "      <td>Q1</td>\n",
              "    </tr>\n",
              "    <tr>\n",
              "      <th>4</th>\n",
              "      <td>1/1/2017</td>\n",
              "      <td>2.0</td>\n",
              "      <td>4.0</td>\n",
              "      <td>2017-1</td>\n",
              "      <td>1/15/2017</td>\n",
              "      <td>Q1</td>\n",
              "    </tr>\n",
              "  </tbody>\n",
              "</table>\n",
              "</div>"
            ],
            "text/plain": [
              "       date  Topic  Topic_nmf MONTHLY INTERVAL_15 quarter\n",
              "0  1/1/2017    5.0        4.0  2017-1   1/15/2017      Q1\n",
              "1  1/1/2017    3.0        4.0  2017-1   1/15/2017      Q1\n",
              "2  1/1/2017    2.0        2.0  2017-1   1/15/2017      Q1\n",
              "3  1/1/2017    2.0        0.0  2017-1   1/15/2017      Q1\n",
              "4  1/1/2017    2.0        4.0  2017-1   1/15/2017      Q1"
            ]
          },
          "metadata": {
            "tags": []
          },
          "execution_count": 61
        }
      ]
    },
    {
      "cell_type": "code",
      "metadata": {
        "id": "FgC6gQQnO20G"
      },
      "source": [
        "import seaborn as sns"
      ],
      "execution_count": null,
      "outputs": []
    },
    {
      "cell_type": "code",
      "metadata": {
        "id": "_Ay-78rfOxAP"
      },
      "source": [
        "sns.set_theme(style=\"darkgrid\")"
      ],
      "execution_count": null,
      "outputs": []
    },
    {
      "cell_type": "code",
      "metadata": {
        "colab": {
          "base_uri": "https://localhost:8080/",
          "height": 502
        },
        "id": "qqwhftHSQSzB",
        "outputId": "2d4440e4-58e7-4601-9f71-8f179e9d30c6"
      },
      "source": [
        "fig=plt.figure(figsize=(12,8))\n",
        "ax = sns.countplot(x=\"MONTHLY\",hue=\"Topic_nmf\" ,data=plotdata)\n",
        "plt.legend(title='Technologies', loc='upper left', labels=['App', 'Data','Mobile','Video','Self Driving Cars'])\n",
        "plt.show()"
      ],
      "execution_count": null,
      "outputs": [
        {
          "output_type": "display_data",
          "data": {
            "image/png": "[encoded data removed]",
            "text/plain": [
              "<Figure size 864x576 with 1 Axes>"
            ]
          },
          "metadata": {
            "tags": []
          }
        }
      ]
    },
    {
      "cell_type": "code",
      "metadata": {
        "colab": {
          "base_uri": "https://localhost:8080/",
          "height": 664
        },
        "id": "RlndMqsuWp-I",
        "outputId": "29f1cbcc-6e96-40a8-9825-4b92f81bac07"
      },
      "source": [
        "fig=plt.figure(figsize=(15,10))\n",
        "ax1 = sns.countplot(x=\"INTERVAL_15\",hue=\"Topic_nmf\" ,data=plotdata)\n",
        "ax1.tick_params(direction='out',labelrotation=90)\n",
        "plt.legend(title='Technologies', loc='upper left', labels=['App', 'Data','Mobile','Video','Self Driving Cars'])\n",
        "plt.show()"
      ],
      "execution_count": null,
      "outputs": [
        {
          "output_type": "display_data",
          "data": {
            "image/png": "[encoded data removed]",
            "text/plain": [
              "<Figure size 1080x720 with 1 Axes>"
            ]
          },
          "metadata": {
            "tags": []
          }
        }
      ]
    },
    {
      "cell_type": "code",
      "metadata": {
        "colab": {
          "base_uri": "https://localhost:8080/",
          "height": 611
        },
        "id": "l2RW91EApa1I",
        "outputId": "3c2790ac-109e-4039-a122-9392413c17aa"
      },
      "source": [
        "fig=plt.figure(figsize=(15,10))\n",
        "ax2 = sns.countplot(x=\"quarter\",hue=\"Topic_nmf\" ,data=plotdata)\n",
        "plt.legend(title='Technologies', loc='upper left', labels=['App', 'Data','Mobile','Video','Self Driving Cars'])\n",
        "plt.show()"
      ],
      "execution_count": null,
      "outputs": [
        {
          "output_type": "display_data",
          "data": {
            "image/png": "[encoded data removed]",
            "text/plain": [
              "<Figure size 1080x720 with 1 Axes>"
            ]
          },
          "metadata": {
            "tags": []
          }
        }
      ]
    }
  ]
}